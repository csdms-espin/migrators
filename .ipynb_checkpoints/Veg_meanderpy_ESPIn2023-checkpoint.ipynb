{
 "cells": [
  {
   "cell_type": "code",
   "execution_count": 1,
   "metadata": {},
   "outputs": [],
   "source": [
    "import Veg_meanderpy_ESPIn2023 as mp\n",
    "import matplotlib.pyplot as plt\n",
    "import numpy as np\n",
    "from landlab import HexModelGrid, RasterModelGrid\n",
    "from landlab.plot.graph import plot_graph"
   ]
  },
  {
   "cell_type": "markdown",
   "metadata": {},
   "source": [
    "## Input parameters"
   ]
  },
  {
   "cell_type": "code",
   "execution_count": 2,
   "metadata": {},
   "outputs": [],
   "source": [
    "nit = 2000                   # number of iterations\n",
    "W = 200.0                    # channel width (m)\n",
    "D = 6.0  \n",
    "\n",
    "# channel depth (m)\n",
    "depths = D * np.ones(nit,)  # channel depths for different iterations  \n",
    "pad = 100                    # padding (number of nodepoints along centerline)\n",
    "deltas = 50.0                # sampling distance along centerline \n",
    "kl = 60.0/(365*24*60*60.0) # migration rate constant (m/s)\n",
    "\n",
    "# Cfs now gets updated in meanderpy.py\n",
    "Cfs = np.ones((nit,)) # dimensionless Chezy friction factor\n",
    "#\n",
    "Cfs_south = 0.011\n",
    "Cfs_north = 0.03\n",
    "\n",
    "\n",
    "crdist = 2 * W               # threshold distance at which cutoffs occur\n",
    "kv =  1.0e-12               # vertical slope-dependent erosion rate constant (m/s)\n",
    "dt = 2*0.05*365*24*60*60.0     # time step (s)\n",
    "dens = 1000                  # density of water (kg/m3)\n",
    "saved_ts = 20                # which time steps will be saved\n",
    "n_bends = 30                 # approximate number of bends you want to model\n",
    "Sl = 0.0                     # initial slope (matters more for submarine channels than rivers)\n",
    "t1 = 500                    # time step when incision starts\n",
    "t2 = 700                    # time step when lateral migration starts\n",
    "t3 = 1200                    # time step when aggradation starts\n",
    "aggr_factor = 2e-9         # aggradation factor (m/s, about 0.18 m/year, it kicks in after t3)"
   ]
  },
  {
   "cell_type": "markdown",
   "metadata": {},
   "source": [
    "## Initialize model"
   ]
  },
  {
   "cell_type": "code",
   "execution_count": 3,
   "metadata": {},
   "outputs": [],
   "source": [
    "ch = mp.generate_initial_channel(W, depths[0], Sl, deltas, pad, n_bends) # initialize channel\n",
    "chb = mp.ChannelBelt(channels=[ch], cutoffs=[], cl_times=[0.0], cutoff_times=[]) # create channel belt object"
   ]
  },
  {
   "cell_type": "code",
   "execution_count": 4,
   "metadata": {},
   "outputs": [
    {
     "name": "stderr",
     "output_type": "stream",
     "text": [
      "  0%|          | 0/500 [00:01<?, ?it/s]\n"
     ]
    },
    {
     "ename": "NameError",
     "evalue": "name 'chb' is not defined",
     "output_type": "error",
     "traceback": [
      "\u001b[0;31m---------------------------------------------------------------------------\u001b[0m",
      "\u001b[0;31mNameError\u001b[0m                                 Traceback (most recent call last)",
      "Cell \u001b[0;32mIn[4], line 2\u001b[0m\n\u001b[1;32m      1\u001b[0m \u001b[38;5;66;03m# create a list of all the sinuosities of each iteration\u001b[39;00m\n\u001b[0;32m----> 2\u001b[0m sins, ncut, scut \u001b[38;5;241m=\u001b[39m \u001b[43mchb\u001b[49m\u001b[38;5;241;43m.\u001b[39;49m\u001b[43msinuosity_list\u001b[49m\u001b[43m(\u001b[49m\u001b[38;5;241;43m500\u001b[39;49m\u001b[43m,\u001b[49m\u001b[43m \u001b[49m\u001b[43mdeltas\u001b[49m\u001b[43m,\u001b[49m\u001b[43m \u001b[49m\u001b[43mpad\u001b[49m\u001b[43m,\u001b[49m\u001b[43m \u001b[49m\u001b[43mcrdist\u001b[49m\u001b[43m,\u001b[49m\u001b[43m \u001b[49m\u001b[43mdepths\u001b[49m\u001b[43m,\u001b[49m\u001b[43m \u001b[49m\u001b[43mCfs\u001b[49m\u001b[43m,\u001b[49m\u001b[43m \u001b[49m\u001b[43mkl\u001b[49m\u001b[43m,\u001b[49m\u001b[43m \u001b[49m\u001b[43mdt\u001b[49m\u001b[43m,\u001b[49m\u001b[43m \u001b[49m\u001b[43mCfs_south\u001b[49m\u001b[43m,\u001b[49m\u001b[43m \u001b[49m\u001b[43mCfs_north\u001b[49m\u001b[43m)\u001b[49m\n",
      "File \u001b[0;32m~/migrators/Veg_meanderpy_ESPIn2023.py:185\u001b[0m, in \u001b[0;36mChannelBelt.sinuosity_list\u001b[0;34m(self, nit, deltas, pad, crdist, depths, Cfs, kl, dt, Cfs_south, Cfs_north)\u001b[0m\n\u001b[1;32m    183\u001b[0m north_cutoff_list \u001b[38;5;241m=\u001b[39m np\u001b[38;5;241m.\u001b[39marray([])\n\u001b[1;32m    184\u001b[0m south_cutoff_list \u001b[38;5;241m=\u001b[39m np\u001b[38;5;241m.\u001b[39marray([])\n\u001b[0;32m--> 185\u001b[0m \u001b[38;5;28mprint\u001b[39m(\u001b[38;5;124m'\u001b[39m\u001b[38;5;124mCutoffs\u001b[39m\u001b[38;5;124m'\u001b[39m, \u001b[43mchb\u001b[49m\u001b[38;5;241m.\u001b[39mcutoffs)\n\u001b[1;32m    187\u001b[0m \u001b[38;5;28;01mfor\u001b[39;00m i \u001b[38;5;129;01min\u001b[39;00m \u001b[38;5;28mrange\u001b[39m(\u001b[38;5;241m0\u001b[39m,\u001b[38;5;28mlen\u001b[39m(yc)):\n\u001b[1;32m    188\u001b[0m     pos_count \u001b[38;5;241m=\u001b[39m \u001b[38;5;241m0\u001b[39m\n",
      "\u001b[0;31mNameError\u001b[0m: name 'chb' is not defined"
     ]
    }
   ],
   "source": [
    "# create a list of all the sinuosities of each iteration\n",
    "sins, ncut, scut = chb.sinuosity_list(500, deltas, pad, crdist, depths, Cfs, kl, dt, Cfs_south, Cfs_north)"
   ]
  },
  {
   "cell_type": "code",
   "execution_count": null,
   "metadata": {},
   "outputs": [],
   "source": [
    "plt.plot(sins)"
   ]
  },
  {
   "cell_type": "code",
   "execution_count": null,
   "metadata": {},
   "outputs": [],
   "source": [
    "print(ncut)"
   ]
  },
  {
   "cell_type": "code",
   "execution_count": null,
   "metadata": {},
   "outputs": [],
   "source": [
    "plt.plot(nit, ncut, label='north cuttoffs')\n",
    "plt.show()"
   ]
  },
  {
   "cell_type": "markdown",
   "metadata": {
    "tags": []
   },
   "source": [
    "### Creating our vegetation grid"
   ]
  },
  {
   "cell_type": "code",
   "execution_count": null,
   "metadata": {},
   "outputs": [],
   "source": [
    "veg_x, veg_y = np.random.random_sample(len(ch.x)), np.random.random_sample(len(ch.y))\n",
    "veg = np.random.rand(len(ch.x), len(ch.y))"
   ]
  },
  {
   "cell_type": "code",
   "execution_count": null,
   "metadata": {},
   "outputs": [],
   "source": [
    "# Since we want vegetation patches: \n",
    "\n",
    "patch_size = 60\n",
    "random_range = (0, 1) # I guess these should be the Cfs values?\n",
    "\n",
    "# Generate random values\n",
    "veg = np.random.uniform(*random_range, size=(len(ch.x), len(ch.y)))\n",
    "\n",
    "# Create patches\n",
    "patched_veg = np.zeros_like(veg)\n",
    "for i in range(0, len(ch.y), patch_size):\n",
    "    for j in range(0, len(ch.x), patch_size):\n",
    "        value = np.random.uniform(*random_range)\n",
    "        patched_veg[i:i+patch_size, j:j+patch_size] = value\n",
    "\n",
    "# Create a heatmap\n",
    "plt.imshow(patched_veg, cmap='Greens')\n",
    "plt.colorbar()\n",
    "\n",
    "# Show the plot\n",
    "plt.show()"
   ]
  },
  {
   "cell_type": "markdown",
   "metadata": {},
   "source": [
    "## Run simulation"
   ]
  },
  {
   "cell_type": "code",
   "execution_count": null,
   "metadata": {},
   "outputs": [],
   "source": [
    "# run one step \n",
    "chb.migrate(nit,saved_ts,deltas,pad,crdist,depths,Cfs,kl,kv,dt,dens,t1,t2,t3,aggr_factor,Cfs_south,Cfs_north)"
   ]
  },
  {
   "cell_type": "code",
   "execution_count": null,
   "metadata": {},
   "outputs": [],
   "source": [
    "#chb.cl_times"
   ]
  },
  {
   "cell_type": "code",
   "execution_count": null,
   "metadata": {},
   "outputs": [],
   "source": [
    "#chb.migrate(nit,saved_ts,deltas,pad,crdist,depths,Cfs,kl,kv,dt,dens,t1,t2,t3,aggr_factor,Cfs_south,Cfs_north) # channel migration\n",
    "# make migrate function \n",
    "fig = chb.plot('morph', 0, len(chb.cutoffs), chb.cl_times[-1], 1) # plotting"
   ]
  },
  {
   "cell_type": "code",
   "execution_count": null,
   "metadata": {},
   "outputs": [],
   "source": [
    "# check the z-profiles (to see whether there is the right amount of incision/aggradation):\n",
    "plt.figure()\n",
    "for channel in chb.channels:\n",
    "    plt.plot(channel.x, channel.z, 'k', linewidth=0.5)"
   ]
  },
  {
   "cell_type": "code",
   "execution_count": null,
   "metadata": {},
   "outputs": [],
   "source": [
    "chb.sinuosity"
   ]
  },
  {
   "cell_type": "markdown",
   "metadata": {},
   "source": [
    "Create a \"geomorphologic\" display that takes into account that older point bars and cutoffs are covered by vegetation:"
   ]
  },
  {
   "cell_type": "code",
   "execution_count": null,
   "metadata": {},
   "outputs": [],
   "source": [
    "fig = chb.plot('morph', 20, 60, chb.cl_times[-1], len(chb.channels))"
   ]
  },
  {
   "cell_type": "markdown",
   "metadata": {},
   "source": [
    "Create a map that is colored by the age of the point bars:"
   ]
  },
  {
   "cell_type": "code",
   "execution_count": null,
   "metadata": {},
   "outputs": [],
   "source": [
    "fig = chb.plot('age', 20, 60, chb.cl_times[-1], len(chb.channels))"
   ]
  },
  {
   "cell_type": "markdown",
   "metadata": {},
   "source": [
    "## Create movie"
   ]
  },
  {
   "cell_type": "code",
   "execution_count": null,
   "metadata": {},
   "outputs": [],
   "source": [
    "dirname = '/home/jupyter-corank18@wfu.edu/meanderpy/'\n",
    "chb.create_movie(xmin=10000, xmax=30000, plot_type='strat', filename='movie', dirname=dirname,\n",
    "                 pb_age = 1, ob_age = 20, end_time = chb.cl_times[-1], n_channels = len(chb.channels))"
   ]
  },
  {
   "cell_type": "markdown",
   "metadata": {},
   "source": [
    "## Build 3D fluvial model\n",
    "\n",
    "### Non-interactive definition of x- and y-extent\n",
    "\n",
    "If the parameters 'xmin', 'xmax', ymin', and 'ymax' are non-zero (as in the cell below), they will be used to define the extent of the area of interest used to build the 3D model. At least initially, it is a good idea to keep this segment relatively small (only a few bends long) to avoid building very large models."
   ]
  },
  {
   "cell_type": "code",
   "execution_count": null,
   "metadata": {},
   "outputs": [],
   "source": [
    "plt.close('all')"
   ]
  },
  {
   "cell_type": "code",
   "execution_count": null,
   "metadata": {},
   "outputs": [],
   "source": [
    "h_mud = 1.0 * np.ones((len(chb.channels),)) # thickness of overbank deposit for each time step\n",
    "dx = 10.0 # gridcell size in meters\n",
    "diff_scale = 2.0 * W/dx\n",
    "v_coarse = 10.0 # deposition rate of coarse overbank sediment, in m/year (excluding times of no flooding)\n",
    "v_fine = 0.0 # deposition rate of fine overbank sediment, in m/year (excluding times of no flooding)\n",
    "\n",
    "chb_3d, xmin, xmax, ymin, ymax, dists, zmaps = mp.build_3d_model(chb, 'fluvial', \n",
    "            h_mud=h_mud, h=12.0, w=W, \n",
    "            bth=0.0, dcr=10.0, dx=dx, delta_s=deltas, dt=dt, starttime=chb.cl_times[0], endtime=chb.cl_times[-1],\n",
    "            diff_scale=diff_scale, v_fine=v_fine, v_coarse=v_coarse, \n",
    "            xmin=9000, xmax=15000, ymin=-3500, ymax=3500)"
   ]
  },
  {
   "cell_type": "code",
   "execution_count": null,
   "metadata": {},
   "outputs": [],
   "source": [
    "# create plots\n",
    "fig1,fig2,fig3 = chb_3d.plot_xsection(200, [[0.9,0.9,0],[0.5,0.25,0]], 4)"
   ]
  },
  {
   "cell_type": "markdown",
   "metadata": {},
   "source": [
    "## Build fluvial model with variable depths and well-defined scrolls"
   ]
  },
  {
   "cell_type": "code",
   "execution_count": null,
   "metadata": {},
   "outputs": [],
   "source": [
    "nit = 2000                   # number of iterations\n",
    "W = 200.0                    # channel width (m)\n",
    "D = 6.0\n",
    "saved_ts = 20                # which time steps will be saved# channel depth (m)\n",
    "# create variable depth sequence:\n",
    "depths = D * np.ones((nit,)) + np.repeat(1.5*(np.random.random_sample(int(nit/saved_ts))-0.5), saved_ts)\n",
    "pad = 100                    # padding (number of nodepoints along centerline)\n",
    "deltas = 50.0                # sampling distance along centerline           \n",
    "Cfs = 0.011 * np.ones((nit,)) # dimensionless Chezy friction factor\n",
    "crdist = 2 * W               # threshold distance at which cutoffs occur\n",
    "kl = 60.0/(365*24*60*60.0)   # migration rate constant (m/s)\n",
    "kv =  1.0e-12               # vertical slope-dependent erosion rate constant (m/s)\n",
    "dt = 2*0.05*365*24*60*60.0     # time step (s)\n",
    "dens = 1000                  # density of water (kg/m3)\n",
    "n_bends = 30                 # approximate number of bends you want to model\n",
    "Sl = 0.0                     # initial slope (matters more for submarine channels than rivers)\n",
    "t1 = 500                    # time step when incision starts\n",
    "t2 = 900                    # time step when lateral migration starts\n",
    "t3 = 10000                    # time step when aggradation starts\n",
    "aggr_factor = 2e-9         # aggradation factor (m/s, about 0.18 m/year, it kicks in after t3)\n",
    "\n",
    "ch = mp.generate_initial_channel(W, depths[0], Sl, deltas, pad, n_bends) # initialize channel\n",
    "chb = mp.ChannelBelt(channels=[ch], cutoffs=[], cl_times=[0.0], cutoff_times=[]) # create channel belt object\n",
    "\n",
    "chb.migrate(nit,saved_ts,deltas,pad,crdist,depths,Cfs,kl,kv,dt,dens,t1,t2,t3,aggr_factor) # channel migration\n",
    "fig = chb.plot('strat', 20, 60, chb.cl_times[-1], len(chb.channels)) # plotting"
   ]
  },
  {
   "cell_type": "code",
   "execution_count": null,
   "metadata": {},
   "outputs": [],
   "source": [
    "# add a bit more incision:\n",
    "for i in range(len(chb.channels)):\n",
    "    chb.channels[i].z = np.ones(np.shape(chb.channels[i].x))*(-0.1 * i)\n",
    "# create 'h_mud' sequence that mimicks the varibaility in depth through time:\n",
    "depths1 = depths[::saved_ts]\n",
    "depths1 = np.hstack((depths1[0], depths1))\n",
    "h_mud = depths1 - 5.0 # maximum thickness of overbank deposit for each time step\n",
    "dx = 10.0 # gridcell size in meters\n",
    "# reduce diffusion length scale:\n",
    "diff_scale = 1.0 * W/dx\n",
    "# increase deposition rate of coares sediment:\n",
    "v_coarse = 20.0 # deposition rate of coarse overbank sediment, in m/year (excluding times of no flooding)\n",
    "v_fine = 0.0 # deposition rate of fine overbank sediment, in m/year (excluding times of no flooding)\n",
    "\n",
    "chb_3d, xmin, xmax, ymin, ymax, dists, zmaps = mp.build_3d_model(chb, 'fluvial', \n",
    "            h_mud=h_mud, h=12.0, w=W, \n",
    "            bth=0.0, dcr=10.0, dx=dx, delta_s=deltas, dt=dt, starttime=chb.cl_times[0], endtime=chb.cl_times[-1],\n",
    "            diff_scale=diff_scale, v_fine=v_fine, v_coarse=v_coarse, \n",
    "            xmin=8000, xmax=15000, ymin=-3500, ymax=3500)\n",
    "\n",
    "# create plots\n",
    "fig1,fig2,fig3 = chb_3d.plot_xsection(200, [[0.9,0.9,0],[0.5,0.25,0]], 4)"
   ]
  },
  {
   "cell_type": "markdown",
   "metadata": {},
   "source": [
    "## Interactive definition of x- and y-extent\n",
    "After you run the next cell, you need to select the upper left and lower right corners of the area of interest for which you want to build a 3D model. At least initially, it is a good idea to keep this segment relatively small (only a few bends long) to avoid building very large models. The area will only be highlighted (as a red rectangle) after the 3d model building has finished."
   ]
  },
  {
   "cell_type": "code",
   "execution_count": null,
   "metadata": {},
   "outputs": [],
   "source": [
    "chb_3d, xmin, xmax, ymin, ymax, dists, zmaps = mp.build_3d_model(chb, 'fluvial', \n",
    "            h_mud=h_mud, h=12.0, w=W, \n",
    "            bth=0.0, dcr=10.0, dx=dx, delta_s=deltas, dt=dt, starttime=chb.cl_times[0], endtime=chb.cl_times[-1],\n",
    "            diff_scale=diff_scale, v_fine=v_fine, v_coarse=v_coarse, \n",
    "            xmin=0, xmax=0, ymin=0, ymax=0)"
   ]
  },
  {
   "cell_type": "code",
   "execution_count": null,
   "metadata": {},
   "outputs": [],
   "source": [
    "# create plots\n",
    "fig1,fig2,fig3 = chb_3d.plot_xsection(200, [[0.9,0.9,0],[0.5,0.25,0]], 4)"
   ]
  },
  {
   "cell_type": "markdown",
   "metadata": {},
   "source": [
    "## Build 3D submarine channel model"
   ]
  },
  {
   "cell_type": "code",
   "execution_count": null,
   "metadata": {},
   "outputs": [],
   "source": [
    "nit = 2000                   # number of iterations\n",
    "W = 200.0                    # channel width (m)\n",
    "D = 6.0                      # channel depth (m)\n",
    "depths = D * np.ones((nit,))  # channel depths for different iterations  \n",
    "pad = 50                    # padding (number of nodepoints along centerline)\n",
    "deltas = W/4                # sampling distance along centerline           \n",
    "Cfs = 0.011 * np.ones((nit,)) # dimensionless Chezy friction factor\n",
    "crdist = 1.5 * W               # threshold distance at which cutoffs occur\n",
    "kl = 60.0/(365*24*60*60.0)   # migration rate constant (m/s)\n",
    "kv =  1.0e-12               # vertical slope-dependent erosion rate constant (m/s)\n",
    "dt = 2*0.05*365*24*60*60.0     # time step (s)\n",
    "dens = 1000                  # density of water (kg/m3)\n",
    "saved_ts = 20                # which time steps will be saved\n",
    "n_bends = 30                 # approximate number of bends you want to model\n",
    "Sl = 0.0                     # initial slope (matters more for submarine channels than rivers)\n",
    "t1 = 500                    # time step when incision starts\n",
    "t2 = 700                    # time step when lateral migration starts\n",
    "t3 = 1300                    # time step when aggradation starts\n",
    "aggr_factor = 2e-8         # aggradation factor "
   ]
  },
  {
   "cell_type": "code",
   "execution_count": null,
   "metadata": {},
   "outputs": [],
   "source": [
    "ch = mp.generate_initial_channel(W, depths[0], Sl, deltas, pad, n_bends) # initialize channel\n",
    "chb = mp.ChannelBelt(channels=[ch], cutoffs=[], cl_times=[0.0], cutoff_times=[]) # create channel belt object"
   ]
  },
  {
   "cell_type": "code",
   "execution_count": null,
   "metadata": {},
   "outputs": [],
   "source": [
    "chb.migrate(nit,saved_ts,deltas,pad,crdist,depths,Cfs,kl,kv,dt,dens,t1,t2,t3,aggr_factor) # channel migration\n",
    "fig = chb.plot('strat',20,60,chb.cl_times[-1],len(chb.channels)) # plotting"
   ]
  },
  {
   "cell_type": "code",
   "execution_count": null,
   "metadata": {},
   "outputs": [],
   "source": [
    "# check the z-profiles (to see whether there is the right amount of incision/aggradation):\n",
    "plt.figure()\n",
    "for channel in chb.channels:\n",
    "    plt.plot(channel.x, channel.z, 'k', linewidth=0.5)"
   ]
  },
  {
   "cell_type": "markdown",
   "metadata": {},
   "source": [
    "### Interactive definition of x- and y-extent\n",
    "After you run the next cell, you need to select the upper left and lower right corners of the area of interest for which you want to build a 3D model. At least initially, it is a good idea to keep this segment relatively small (only a few bends long) to avoid building very large models. The area will only be highlighted (as a red rectangle) after the 3d model building has finished."
   ]
  },
  {
   "cell_type": "code",
   "execution_count": null,
   "metadata": {},
   "outputs": [],
   "source": [
    "h_mud = 4.0 * np.ones((len(chb.cl_times),)) # thickness of overbank deposit for each time step\n",
    "dx = 10.0 # gridcell size in meters\n",
    "diff_scale = 3 * W/dx\n",
    "v_coarse = 4.0 # deposition rate of coarse overbank sediment, in m/year (excluding times of no flow in channel)\n",
    "v_fine = 0.0 # deposition rate of fine overbank sediment, in m/year (excluding times of no flow in channel)\n",
    "\n",
    "chb_3d, xmin, xmax, ymin, ymax, dists, zmaps = mp.build_3d_model(chb, \n",
    "            'submarine', h_mud=h_mud, h=15.0, w=W, \n",
    "            bth=4.0, dcr=6.0, dx=dx, delta_s=deltas, dt=dt, starttime=chb.cl_times[0], endtime=chb.cl_times[-1],\n",
    "            diff_scale=diff_scale, v_fine=v_fine, v_coarse=v_coarse, \n",
    "            xmin=0, xmax=0, ymin=0, ymax=0)\n",
    "#             xmin=xmin, xmax=xmax, ymin=ymin, ymax=ymax)\n"
   ]
  },
  {
   "cell_type": "code",
   "execution_count": null,
   "metadata": {},
   "outputs": [],
   "source": [
    "fig1,fig2,fig3 = chb_3d.plot_xsection(200, [[0.9,0.9,0], [0.5,0.25,0]], 10)"
   ]
  },
  {
   "cell_type": "markdown",
   "metadata": {},
   "source": [
    "## Build submarine channel model with along-channel slope"
   ]
  },
  {
   "cell_type": "code",
   "execution_count": null,
   "metadata": {},
   "outputs": [],
   "source": [
    "nit = 2000                   # number of iterations\n",
    "W = 200.0                    # channel width (m)\n",
    "D = 6.0                      # channel depth (m)\n",
    "depths = D * np.ones((nit,))  # channel depths for different iterations  \n",
    "pad = 50                    # padding (number of nodepoints along centerline)\n",
    "deltas = W/4                # sampling distance along centerline           \n",
    "Cfs = 0.011 * np.ones((nit,)) # dimensionless Chezy friction factor\n",
    "crdist = 1.5 * W               # threshold distance at which cutoffs occur\n",
    "kl = 60.0/(365*24*60*60.0)   # migration rate constant (m/s)\n",
    "kv =  1.0e-12               # vertical slope-dependent erosion rate constant (m/s)\n",
    "dt = 2*0.05*365*24*60*60.0     # time step (s)\n",
    "dens = 1000                  # density of water (kg/m3)\n",
    "saved_ts = 20                # which time steps will be saved\n",
    "n_bends = 30                 # approximate number of bends you want to model\n",
    "Sl = 0.01                     # initial slope (matters more for submarine channels than rivers)\n",
    "t1 = 500                    # time step when incision starts\n",
    "t2 = 700                    # time step when lateral migration starts\n",
    "t3 = 1300                    # time step when aggradation starts\n",
    "aggr_factor = 4        # aggradation factor \n",
    "\n",
    "ch = mp.generate_initial_channel(W, depths[0], Sl, deltas, pad, n_bends) # initialize channel\n",
    "chb = mp.ChannelBelt(channels=[ch], cutoffs=[], cl_times=[0.0], cutoff_times=[]) # create channel belt object\n",
    "\n",
    "chb.migrate(nit,saved_ts,deltas,pad,crdist,depths,Cfs,kl,kv,dt,dens,t1,t2,t3,aggr_factor) # channel migration\n",
    "fig = chb.plot('strat',20,60,chb.cl_times[-1],len(chb.channels)) # plotting"
   ]
  },
  {
   "cell_type": "code",
   "execution_count": null,
   "metadata": {},
   "outputs": [],
   "source": [
    "# check the z-profiles (to see whether there is the right amount of incision/aggradation):\n",
    "plt.figure()\n",
    "for channel in chb.channels:\n",
    "    plt.plot(channel.x, channel.z, 'k', linewidth=0.5)"
   ]
  },
  {
   "cell_type": "code",
   "execution_count": null,
   "metadata": {},
   "outputs": [],
   "source": [
    "h_mud = 4.0 * np.ones((len(chb.cl_times),)) # thickness of overbank deposit for each time step\n",
    "dx = 10.0 # gridcell size in meters\n",
    "diff_scale = 3 * W/dx\n",
    "v_coarse = 4.0 # deposition rate of coarse overbank sediment, in m/year (excluding times of no flow in channel)\n",
    "v_fine = 0.0 # deposition rate of fine overbank sediment, in m/year (excluding times of no flow in channel)\n",
    "\n",
    "chb_3d, xmin, xmax, ymin, ymax, dists, zmaps = mp.build_3d_model(chb, \n",
    "            'submarine', h_mud=h_mud, h=15.0, w=W, \n",
    "            bth=4.0, dcr=6.0, dx=dx, delta_s=deltas, dt=dt, starttime=chb.cl_times[0], endtime=chb.cl_times[-1],\n",
    "            diff_scale=diff_scale, v_fine=v_fine, v_coarse=v_coarse, \n",
    "            xmin=0, xmax=0, ymin=0, ymax=0)"
   ]
  },
  {
   "cell_type": "code",
   "execution_count": null,
   "metadata": {},
   "outputs": [],
   "source": [
    "fig1,fig2,fig3 = chb_3d.plot_xsection(200, [[0.9,0.9,0], [0.5,0.25,0]], 10)"
   ]
  }
 ],
 "metadata": {
  "kernelspec": {
   "display_name": "CSDMS",
   "language": "python",
   "name": "csdms-2023"
  },
  "language_info": {
   "codemirror_mode": {
    "name": "ipython",
    "version": 3
   },
   "file_extension": ".py",
   "mimetype": "text/x-python",
   "name": "python",
   "nbconvert_exporter": "python",
   "pygments_lexer": "ipython3",
   "version": "3.9.16"
  }
 },
 "nbformat": 4,
 "nbformat_minor": 4
}
