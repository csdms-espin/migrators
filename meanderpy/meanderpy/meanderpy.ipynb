{
 "cells": [
  {
   "cell_type": "code",
   "execution_count": 2,
   "metadata": {},
   "outputs": [],
   "source": [
    "import meanderpy as mp\n",
    "import matplotlib.pyplot as plt\n",
    "import numpy as np\n",
    "%matplotlib qt"
   ]
  },
  {
   "cell_type": "code",
   "execution_count": 2,
   "metadata": {},
   "outputs": [
    {
     "data": {
      "text/plain": [
       "<module 'meanderpy' from '/Users/zoltan/Dropbox/Channels/meanderpy/meanderpy/meanderpy.py'>"
      ]
     },
     "execution_count": 2,
     "metadata": {},
     "output_type": "execute_result"
    }
   ],
   "source": [
    "from importlib import reload\n",
    "reload(mp)"
   ]
  },
  {
   "cell_type": "markdown",
   "metadata": {},
   "source": [
    "## Input parameters"
   ]
  },
  {
   "cell_type": "code",
   "execution_count": 3,
   "metadata": {},
   "outputs": [],
   "source": [
    "nit = 2000                   # number of iterations\n",
    "W = 200.0                    # channel width (m)\n",
    "D = 6.0                      # channel depth (m)\n",
    "depths = D * np.ones((nit,))  # channel depths for different iterations  \n",
    "pad = 100                    # padding (number of nodepoints along centerline)\n",
    "deltas = 50.0                # sampling distance along centerline           \n",
    "Cfs = 0.011 * np.ones((nit,)) # dimensionless Chezy friction factor\n",
    "crdist = 2 * W               # threshold distance at which cutoffs occur\n",
    "kl = 60.0/(365*24*60*60.0)   # migration rate constant (m/s)\n",
    "kv =  1.0e-12               # vertical slope-dependent erosion rate constant (m/s)\n",
    "dt = 2*0.05*365*24*60*60.0     # time step (s)\n",
    "dens = 1000                  # density of water (kg/m3)\n",
    "saved_ts = 20                # which time steps will be saved\n",
    "n_bends = 30                 # approximate number of bends you want to model\n",
    "Sl = 0.0                     # initial slope (matters more for submarine channels than rivers)\n",
    "t1 = 500                    # time step when incision starts\n",
    "t2 = 700                    # time step when lateral migration starts\n",
    "t3 = 1200                    # time step when aggradation starts\n",
    "aggr_factor = 2e-9         # aggradation factor (m/s, about 0.18 m/year, it kicks in after t3)"
   ]
  },
  {
   "cell_type": "markdown",
   "metadata": {},
   "source": [
    "## Initialize model"
   ]
  },
  {
   "cell_type": "code",
   "execution_count": 4,
   "metadata": {},
   "outputs": [],
   "source": [
    "ch = mp.generate_initial_channel(W, depths[0], Sl, deltas, pad, n_bends) # initialize channel\n",
    "chb = mp.ChannelBelt(channels=[ch], cutoffs=[], cl_times=[0.0], cutoff_times=[]) # create channel belt object"
   ]
  },
  {
   "cell_type": "markdown",
   "metadata": {},
   "source": [
    "## Run simulation"
   ]
  },
  {
   "cell_type": "code",
   "execution_count": 5,
   "metadata": {},
   "outputs": [
    {
     "name": "stderr",
     "output_type": "stream",
     "text": [
      "100%|██████████| 2000/2000 [00:41<00:00, 48.30it/s]\n"
     ]
    }
   ],
   "source": [
    "chb.migrate(nit,saved_ts,deltas,pad,crdist,depths,Cfs,kl,kv,dt,dens,t1,t2,t3,aggr_factor) # channel migration\n",
    "fig = chb.plot('strat', 20, 60, chb.cl_times[-1], len(chb.channels)) # plotting"
   ]
  },
  {
   "cell_type": "code",
   "execution_count": 6,
   "metadata": {},
   "outputs": [],
   "source": [
    "# check the z-profiles (to see whether there is the right amount of incision/aggradation):\n",
    "plt.figure()\n",
    "for channel in chb.channels:\n",
    "    plt.plot(channel.x, channel.z, 'k', linewidth=0.5)"
   ]
  },
  {
   "cell_type": "markdown",
   "metadata": {},
   "source": [
    "Create a \"geomorphologic\" display that takes into account that older point bars and cutoffs are covered by vegetation:"
   ]
  },
  {
   "cell_type": "code",
   "execution_count": 7,
   "metadata": {},
   "outputs": [],
   "source": [
    "fig = chb.plot('morph', 20, 60, chb.cl_times[-1], len(chb.channels))"
   ]
  },
  {
   "cell_type": "markdown",
   "metadata": {},
   "source": [
    "Create a map that is colored by the age of the point bars:"
   ]
  },
  {
   "cell_type": "code",
   "execution_count": 8,
   "metadata": {},
   "outputs": [],
   "source": [
    "fig = chb.plot('age', 20, 60, chb.cl_times[-1], len(chb.channels))"
   ]
  },
  {
   "cell_type": "markdown",
   "metadata": {},
   "source": [
    "## Create movie"
   ]
  },
  {
   "cell_type": "code",
   "execution_count": 9,
   "metadata": {},
   "outputs": [],
   "source": [
    "dirname = '/Users/zoltan/Dropbox/Channels/temp/'\n",
    "chb.create_movie(xmin=10000, xmax=30000, plot_type='strat', filename='movie', dirname=dirname,\n",
    "                 pb_age = 1, ob_age = 20, end_time = chb.cl_times[-1], n_channels = len(chb.channels))"
   ]
  },
  {
   "cell_type": "markdown",
   "metadata": {},
   "source": [
    "## Build 3D fluvial model\n",
    "\n",
    "### Non-interactive definition of x- and y-extent\n",
    "\n",
    "If the parameters 'xmin', 'xmax', ymin', and 'ymax' are non-zero (as in the cell below), they will be used to define the extent of the area of interest used to build the 3D model. At least initially, it is a good idea to keep this segment relatively small (only a few bends long) to avoid building very large models."
   ]
  },
  {
   "cell_type": "code",
   "execution_count": 12,
   "metadata": {},
   "outputs": [],
   "source": [
    "plt.close('all')"
   ]
  },
  {
   "cell_type": "code",
   "execution_count": 13,
   "metadata": {},
   "outputs": [
    {
     "name": "stderr",
     "output_type": "stream",
     "text": [
      "100%|██████████| 100/100 [00:33<00:00,  2.96it/s]\n"
     ]
    }
   ],
   "source": [
    "h_mud = 1.0 * np.ones((len(chb.channels),)) # thickness of overbank deposit for each time step\n",
    "dx = 10.0 # gridcell size in meters\n",
    "diff_scale = 2.0 * W/dx\n",
    "v_coarse = 10.0 # deposition rate of coarse overbank sediment, in m/year (excluding times of no flooding)\n",
    "v_fine = 0.0 # deposition rate of fine overbank sediment, in m/year (excluding times of no flooding)\n",
    "\n",
    "chb_3d, xmin, xmax, ymin, ymax, dists, zmaps = mp.build_3d_model(chb, 'fluvial', \n",
    "            h_mud=h_mud, h=12.0, w=W, \n",
    "            bth=0.0, dcr=10.0, dx=dx, delta_s=deltas, dt=dt, starttime=chb.cl_times[0], endtime=chb.cl_times[-1],\n",
    "            diff_scale=diff_scale, v_fine=v_fine, v_coarse=v_coarse, \n",
    "            xmin=9000, xmax=15000, ymin=-3500, ymax=3500)"
   ]
  },
  {
   "cell_type": "code",
   "execution_count": 14,
   "metadata": {},
   "outputs": [],
   "source": [
    "# create plots\n",
    "fig1,fig2,fig3 = chb_3d.plot_xsection(200, [[0.9,0.9,0],[0.5,0.25,0]], 4)"
   ]
  },
  {
   "cell_type": "markdown",
   "metadata": {},
   "source": [
    "## Build fluvial model with variable depths and well-defined scrolls"
   ]
  },
  {
   "cell_type": "code",
   "execution_count": 15,
   "metadata": {},
   "outputs": [
    {
     "name": "stderr",
     "output_type": "stream",
     "text": [
      "100%|██████████| 2000/2000 [00:42<00:00, 47.42it/s]\n"
     ]
    }
   ],
   "source": [
    "nit = 2000                   # number of iterations\n",
    "W = 200.0                    # channel width (m)\n",
    "D = 6.0\n",
    "saved_ts = 20                # which time steps will be saved# channel depth (m)\n",
    "# create variable depth sequence:\n",
    "depths = D * np.ones((nit,)) + np.repeat(1.5*(np.random.random_sample(int(nit/saved_ts))-0.5), saved_ts)\n",
    "pad = 100                    # padding (number of nodepoints along centerline)\n",
    "deltas = 50.0                # sampling distance along centerline           \n",
    "Cfs = 0.011 * np.ones((nit,)) # dimensionless Chezy friction factor\n",
    "crdist = 2 * W               # threshold distance at which cutoffs occur\n",
    "kl = 60.0/(365*24*60*60.0)   # migration rate constant (m/s)\n",
    "kv =  1.0e-12               # vertical slope-dependent erosion rate constant (m/s)\n",
    "dt = 2*0.05*365*24*60*60.0     # time step (s)\n",
    "dens = 1000                  # density of water (kg/m3)\n",
    "n_bends = 30                 # approximate number of bends you want to model\n",
    "Sl = 0.0                     # initial slope (matters more for submarine channels than rivers)\n",
    "t1 = 500                    # time step when incision starts\n",
    "t2 = 900                    # time step when lateral migration starts\n",
    "t3 = 10000                    # time step when aggradation starts\n",
    "aggr_factor = 2e-9         # aggradation factor (m/s, about 0.18 m/year, it kicks in after t3)\n",
    "\n",
    "ch = mp.generate_initial_channel(W, depths[0], Sl, deltas, pad, n_bends) # initialize channel\n",
    "chb = mp.ChannelBelt(channels=[ch], cutoffs=[], cl_times=[0.0], cutoff_times=[]) # create channel belt object\n",
    "\n",
    "chb.migrate(nit,saved_ts,deltas,pad,crdist,depths,Cfs,kl,kv,dt,dens,t1,t2,t3,aggr_factor) # channel migration\n",
    "fig = chb.plot('strat', 20, 60, chb.cl_times[-1], len(chb.channels)) # plotting"
   ]
  },
  {
   "cell_type": "code",
   "execution_count": 16,
   "metadata": {},
   "outputs": [
    {
     "name": "stderr",
     "output_type": "stream",
     "text": [
      "100%|██████████| 100/100 [00:41<00:00,  2.41it/s]\n"
     ]
    }
   ],
   "source": [
    "# add a bit more incision:\n",
    "for i in range(len(chb.channels)):\n",
    "    chb.channels[i].z = np.ones(np.shape(chb.channels[i].x))*(-0.1 * i)\n",
    "# create 'h_mud' sequence that mimicks the varibaility in depth through time:\n",
    "depths1 = depths[::saved_ts]\n",
    "depths1 = np.hstack((depths1[0], depths1))\n",
    "h_mud = depths1 - 5.0 # maximum thickness of overbank deposit for each time step\n",
    "dx = 10.0 # gridcell size in meters\n",
    "# reduce diffusion length scale:\n",
    "diff_scale = 1.0 * W/dx\n",
    "# increase deposition rate of coares sediment:\n",
    "v_coarse = 20.0 # deposition rate of coarse overbank sediment, in m/year (excluding times of no flooding)\n",
    "v_fine = 0.0 # deposition rate of fine overbank sediment, in m/year (excluding times of no flooding)\n",
    "\n",
    "chb_3d, xmin, xmax, ymin, ymax, dists, zmaps = mp.build_3d_model(chb, 'fluvial', \n",
    "            h_mud=h_mud, h=12.0, w=W, \n",
    "            bth=0.0, dcr=10.0, dx=dx, delta_s=deltas, dt=dt, starttime=chb.cl_times[0], endtime=chb.cl_times[-1],\n",
    "            diff_scale=diff_scale, v_fine=v_fine, v_coarse=v_coarse, \n",
    "            xmin=8000, xmax=15000, ymin=-3500, ymax=3500)\n",
    "\n",
    "# create plots\n",
    "fig1,fig2,fig3 = chb_3d.plot_xsection(200, [[0.9,0.9,0],[0.5,0.25,0]], 4)"
   ]
  },
  {
   "cell_type": "markdown",
   "metadata": {},
   "source": [
    "## Interactive definition of x- and y-extent\n",
    "After you run the next cell, you need to select the upper left and lower right corners of the area of interest for which you want to build a 3D model. At least initially, it is a good idea to keep this segment relatively small (only a few bends long) to avoid building very large models. The area will only be highlighted (as a red rectangle) after the 3d model building has finished."
   ]
  },
  {
   "cell_type": "code",
   "execution_count": 17,
   "metadata": {},
   "outputs": [
    {
     "name": "stderr",
     "output_type": "stream",
     "text": [
      "100%|██████████| 100/100 [00:08<00:00, 11.81it/s]\n"
     ]
    }
   ],
   "source": [
    "chb_3d, xmin, xmax, ymin, ymax, dists, zmaps = mp.build_3d_model(chb, 'fluvial', \n",
    "            h_mud=h_mud, h=12.0, w=W, \n",
    "            bth=0.0, dcr=10.0, dx=dx, delta_s=deltas, dt=dt, starttime=chb.cl_times[0], endtime=chb.cl_times[-1],\n",
    "            diff_scale=diff_scale, v_fine=v_fine, v_coarse=v_coarse, \n",
    "            xmin=0, xmax=0, ymin=0, ymax=0)"
   ]
  },
  {
   "cell_type": "code",
   "execution_count": 18,
   "metadata": {},
   "outputs": [],
   "source": [
    "# create plots\n",
    "fig1,fig2,fig3 = chb_3d.plot_xsection(200, [[0.9,0.9,0],[0.5,0.25,0]], 4)"
   ]
  },
  {
   "cell_type": "markdown",
   "metadata": {},
   "source": [
    "## Build 3D submarine channel model"
   ]
  },
  {
   "cell_type": "code",
   "execution_count": 19,
   "metadata": {},
   "outputs": [],
   "source": [
    "nit = 2000                   # number of iterations\n",
    "W = 200.0                    # channel width (m)\n",
    "D = 6.0                      # channel depth (m)\n",
    "depths = D * np.ones((nit,))  # channel depths for different iterations  \n",
    "pad = 50                    # padding (number of nodepoints along centerline)\n",
    "deltas = W/4                # sampling distance along centerline           \n",
    "Cfs = 0.011 * np.ones((nit,)) # dimensionless Chezy friction factor\n",
    "crdist = 1.5 * W               # threshold distance at which cutoffs occur\n",
    "kl = 60.0/(365*24*60*60.0)   # migration rate constant (m/s)\n",
    "kv =  1.0e-12               # vertical slope-dependent erosion rate constant (m/s)\n",
    "dt = 2*0.05*365*24*60*60.0     # time step (s)\n",
    "dens = 1000                  # density of water (kg/m3)\n",
    "saved_ts = 20                # which time steps will be saved\n",
    "n_bends = 30                 # approximate number of bends you want to model\n",
    "Sl = 0.0                     # initial slope (matters more for submarine channels than rivers)\n",
    "t1 = 500                    # time step when incision starts\n",
    "t2 = 700                    # time step when lateral migration starts\n",
    "t3 = 1300                    # time step when aggradation starts\n",
    "aggr_factor = 2e-8         # aggradation factor "
   ]
  },
  {
   "cell_type": "code",
   "execution_count": 20,
   "metadata": {},
   "outputs": [],
   "source": [
    "ch = mp.generate_initial_channel(W, depths[0], Sl, deltas, pad, n_bends) # initialize channel\n",
    "chb = mp.ChannelBelt(channels=[ch], cutoffs=[], cl_times=[0.0], cutoff_times=[]) # create channel belt object"
   ]
  },
  {
   "cell_type": "code",
   "execution_count": 21,
   "metadata": {},
   "outputs": [
    {
     "name": "stderr",
     "output_type": "stream",
     "text": [
      "100%|██████████| 2000/2000 [00:38<00:00, 52.15it/s]\n"
     ]
    }
   ],
   "source": [
    "chb.migrate(nit,saved_ts,deltas,pad,crdist,depths,Cfs,kl,kv,dt,dens,t1,t2,t3,aggr_factor) # channel migration\n",
    "fig = chb.plot('strat',20,60,chb.cl_times[-1],len(chb.channels)) # plotting"
   ]
  },
  {
   "cell_type": "code",
   "execution_count": 22,
   "metadata": {},
   "outputs": [],
   "source": [
    "# check the z-profiles (to see whether there is the right amount of incision/aggradation):\n",
    "plt.figure()\n",
    "for channel in chb.channels:\n",
    "    plt.plot(channel.x, channel.z, 'k', linewidth=0.5)"
   ]
  },
  {
   "cell_type": "markdown",
   "metadata": {},
   "source": [
    "### Interactive definition of x- and y-extent\n",
    "After you run the next cell, you need to select the upper left and lower right corners of the area of interest for which you want to build a 3D model. At least initially, it is a good idea to keep this segment relatively small (only a few bends long) to avoid building very large models. The area will only be highlighted (as a red rectangle) after the 3d model building has finished."
   ]
  },
  {
   "cell_type": "code",
   "execution_count": 23,
   "metadata": {},
   "outputs": [
    {
     "name": "stderr",
     "output_type": "stream",
     "text": [
      "100%|██████████| 100/100 [00:12<00:00,  8.12it/s]\n"
     ]
    }
   ],
   "source": [
    "h_mud = 4.0 * np.ones((len(chb.cl_times),)) # thickness of overbank deposit for each time step\n",
    "dx = 10.0 # gridcell size in meters\n",
    "diff_scale = 3 * W/dx\n",
    "v_coarse = 4.0 # deposition rate of coarse overbank sediment, in m/year (excluding times of no flow in channel)\n",
    "v_fine = 0.0 # deposition rate of fine overbank sediment, in m/year (excluding times of no flow in channel)\n",
    "\n",
    "chb_3d, xmin, xmax, ymin, ymax, dists, zmaps = mp.build_3d_model(chb, \n",
    "            'submarine', h_mud=h_mud, h=15.0, w=W, \n",
    "            bth=4.0, dcr=6.0, dx=dx, delta_s=deltas, dt=dt, starttime=chb.cl_times[0], endtime=chb.cl_times[-1],\n",
    "            diff_scale=diff_scale, v_fine=v_fine, v_coarse=v_coarse, \n",
    "            xmin=0, xmax=0, ymin=0, ymax=0)\n",
    "#             xmin=xmin, xmax=xmax, ymin=ymin, ymax=ymax)\n"
   ]
  },
  {
   "cell_type": "code",
   "execution_count": 24,
   "metadata": {},
   "outputs": [],
   "source": [
    "fig1,fig2,fig3 = chb_3d.plot_xsection(200, [[0.9,0.9,0], [0.5,0.25,0]], 10)"
   ]
  },
  {
   "cell_type": "markdown",
   "metadata": {},
   "source": [
    "## Build submarine channel model with along-channel slope"
   ]
  },
  {
   "cell_type": "code",
   "execution_count": 25,
   "metadata": {},
   "outputs": [
    {
     "name": "stderr",
     "output_type": "stream",
     "text": [
      "100%|██████████| 2000/2000 [00:42<00:00, 47.21it/s]\n"
     ]
    }
   ],
   "source": [
    "nit = 2000                   # number of iterations\n",
    "W = 200.0                    # channel width (m)\n",
    "D = 6.0                      # channel depth (m)\n",
    "depths = D * np.ones((nit,))  # channel depths for different iterations  \n",
    "pad = 50                    # padding (number of nodepoints along centerline)\n",
    "deltas = W/4                # sampling distance along centerline           \n",
    "Cfs = 0.011 * np.ones((nit,)) # dimensionless Chezy friction factor\n",
    "crdist = 1.5 * W               # threshold distance at which cutoffs occur\n",
    "kl = 60.0/(365*24*60*60.0)   # migration rate constant (m/s)\n",
    "kv =  1.0e-12               # vertical slope-dependent erosion rate constant (m/s)\n",
    "dt = 2*0.05*365*24*60*60.0     # time step (s)\n",
    "dens = 1000                  # density of water (kg/m3)\n",
    "saved_ts = 20                # which time steps will be saved\n",
    "n_bends = 30                 # approximate number of bends you want to model\n",
    "Sl = 0.01                     # initial slope (matters more for submarine channels than rivers)\n",
    "t1 = 500                    # time step when incision starts\n",
    "t2 = 700                    # time step when lateral migration starts\n",
    "t3 = 1300                    # time step when aggradation starts\n",
    "aggr_factor = 4        # aggradation factor \n",
    "\n",
    "ch = mp.generate_initial_channel(W, depths[0], Sl, deltas, pad, n_bends) # initialize channel\n",
    "chb = mp.ChannelBelt(channels=[ch], cutoffs=[], cl_times=[0.0], cutoff_times=[]) # create channel belt object\n",
    "\n",
    "chb.migrate(nit,saved_ts,deltas,pad,crdist,depths,Cfs,kl,kv,dt,dens,t1,t2,t3,aggr_factor) # channel migration\n",
    "fig = chb.plot('strat',20,60,chb.cl_times[-1],len(chb.channels)) # plotting"
   ]
  },
  {
   "cell_type": "code",
   "execution_count": 26,
   "metadata": {},
   "outputs": [],
   "source": [
    "# check the z-profiles (to see whether there is the right amount of incision/aggradation):\n",
    "plt.figure()\n",
    "for channel in chb.channels:\n",
    "    plt.plot(channel.x, channel.z, 'k', linewidth=0.5)"
   ]
  },
  {
   "cell_type": "code",
   "execution_count": 27,
   "metadata": {},
   "outputs": [
    {
     "name": "stderr",
     "output_type": "stream",
     "text": [
      "100%|██████████| 100/100 [00:39<00:00,  2.55it/s]\n"
     ]
    }
   ],
   "source": [
    "h_mud = 4.0 * np.ones((len(chb.cl_times),)) # thickness of overbank deposit for each time step\n",
    "dx = 10.0 # gridcell size in meters\n",
    "diff_scale = 3 * W/dx\n",
    "v_coarse = 4.0 # deposition rate of coarse overbank sediment, in m/year (excluding times of no flow in channel)\n",
    "v_fine = 0.0 # deposition rate of fine overbank sediment, in m/year (excluding times of no flow in channel)\n",
    "\n",
    "chb_3d, xmin, xmax, ymin, ymax, dists, zmaps = mp.build_3d_model(chb, \n",
    "            'submarine', h_mud=h_mud, h=15.0, w=W, \n",
    "            bth=4.0, dcr=6.0, dx=dx, delta_s=deltas, dt=dt, starttime=chb.cl_times[0], endtime=chb.cl_times[-1],\n",
    "            diff_scale=diff_scale, v_fine=v_fine, v_coarse=v_coarse, \n",
    "            xmin=0, xmax=0, ymin=0, ymax=0)"
   ]
  },
  {
   "cell_type": "code",
   "execution_count": 28,
   "metadata": {},
   "outputs": [],
   "source": [
    "fig1,fig2,fig3 = chb_3d.plot_xsection(200, [[0.9,0.9,0], [0.5,0.25,0]], 10)"
   ]
  }
 ],
 "metadata": {
  "kernelspec": {
   "display_name": "Python 3",
   "language": "python",
   "name": "python3"
  },
  "language_info": {
   "codemirror_mode": {
    "name": "ipython",
    "version": 3
   },
   "file_extension": ".py",
   "mimetype": "text/x-python",
   "name": "python",
   "nbconvert_exporter": "python",
   "pygments_lexer": "ipython3",
   "version": "3.7.3"
  }
 },
 "nbformat": 4,
 "nbformat_minor": 4
}
