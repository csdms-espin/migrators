{
 "cells": [
  {
   "cell_type": "markdown",
   "id": "4d54106a-2e0c-4174-840d-92cb5ab1e795",
   "metadata": {},
   "source": [
    "![](ESPInLogo.png)"
   ]
  },
  {
   "cell_type": "markdown",
   "id": "a1d4c39b-12a9-4272-9f29-e4c0a601343f",
   "metadata": {},
   "source": [
    "# How vegetation affects river migration and meandering"
   ]
  },
  {
   "cell_type": "markdown",
   "id": "92d87520-40e9-4e50-a872-cc28465e3a5c",
   "metadata": {},
   "source": [
    "Channel migration is controlled by flow characteristics, sediment transport and <b>bank resistance</b>. Plants significantly and unquestionably affect river shape and migration by stabilizing the river banks and helping to produce cohesive floodplain clays, thereby increasing resistance to erosion.” [(Zinke, 2020)](https://www.nature.com/articles/s43017-019-0016-3). In this JupyterNotebook we will learn how the presence of vegetation can affect channel migration through different vegetation densities and distributions.\n"
   ]
  },
  {
   "cell_type": "markdown",
   "id": "555dbdaf-6089-460f-9a9e-8865a0a0edb3",
   "metadata": {},
   "source": [
    "For this we will be using [meanderpy](https://github.com/zsylvester/meanderpy), a Python module that implements a simple numerical model of river meandering. This model is based on a nonlinear relationship based on field observations that suggested a complex link between curvature and migration rate. For more information, the model is further described in [Howard and Knutson, 1984](https://doi.org/10.1029/WR020i011p01659)"
   ]
  },
  {
   "cell_type": "code",
   "execution_count": null,
   "id": "42923c8e-29e7-47be-ae02-e6e477d1fe4a",
   "metadata": {},
   "outputs": [],
   "source": []
  }
 ],
 "metadata": {
  "kernelspec": {
   "display_name": "CSDMS",
   "language": "python",
   "name": "csdms-2023"
  },
  "language_info": {
   "codemirror_mode": {
    "name": "ipython",
    "version": 3
   },
   "file_extension": ".py",
   "mimetype": "text/x-python",
   "name": "python",
   "nbconvert_exporter": "python",
   "pygments_lexer": "ipython3",
   "version": "3.9.16"
  }
 },
 "nbformat": 4,
 "nbformat_minor": 5
}
