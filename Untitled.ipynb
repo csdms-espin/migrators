{
 "cells": [
  {
   "cell_type": "markdown",
   "id": "a1d4c39b-12a9-4272-9f29-e4c0a601343f",
   "metadata": {},
   "source": [
    "# The effects of vegetation on river migration"
   ]
  },
  {
   "cell_type": "code",
   "execution_count": null,
   "id": "85f4a39e-42bb-4977-a140-01be4d5f7593",
   "metadata": {},
   "outputs": [],
   "source": []
  }
 ],
 "metadata": {
  "kernelspec": {
   "display_name": "CSDMS",
   "language": "python",
   "name": "csdms-2023"
  },
  "language_info": {
   "codemirror_mode": {
    "name": "ipython",
    "version": 3
   },
   "file_extension": ".py",
   "mimetype": "text/x-python",
   "name": "python",
   "nbconvert_exporter": "python",
   "pygments_lexer": "ipython3",
   "version": "3.9.16"
  }
 },
 "nbformat": 4,
 "nbformat_minor": 5
}
